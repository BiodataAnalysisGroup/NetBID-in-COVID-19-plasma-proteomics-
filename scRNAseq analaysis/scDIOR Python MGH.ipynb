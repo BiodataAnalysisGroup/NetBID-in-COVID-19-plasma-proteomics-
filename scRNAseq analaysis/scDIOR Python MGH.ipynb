{
 "cells": [
  {
   "cell_type": "markdown",
   "id": "09640e0b-c9c6-458c-88cd-126b2f961b82",
   "metadata": {},
   "source": [
    "# scDior and Scanpy"
   ]
  },
  {
   "cell_type": "code",
   "execution_count": null,
   "id": "8915c22f-0229-4cef-955b-fa73ad43025b",
   "metadata": {},
   "outputs": [],
   "source": [
    "#Use Scanpy and scDior to convert h5ad MGH scRNA-seq data to h5 format to further analyze in Seurat in R"
   ]
  },
  {
   "cell_type": "code",
   "execution_count": 2,
   "id": "5635fcb1-70f6-4773-b5f5-4e0df0594254",
   "metadata": {},
   "outputs": [],
   "source": [
    "# import\n",
    "import scanpy as sc\n",
    "import diopy\n",
    "import h5py\n",
    "import anndata\n",
    "import pandas as pd\n",
    "import numpy as np\n",
    "import scipy\n",
    "import os\n",
    "%matplotlib inline"
   ]
  },
  {
   "cell_type": "code",
   "execution_count": 4,
   "id": "43ddc0e9-49a4-4a96-baf4-07bda4fed947",
   "metadata": {},
   "outputs": [],
   "source": [
    "os.chdir('C:/Users/geogav.WS-70-68/Desktop/Python projects')"
   ]
  },
  {
   "cell_type": "code",
   "execution_count": 5,
   "id": "b4f13a7a-acef-4080-9ba6-5ed721d63e98",
   "metadata": {},
   "outputs": [],
   "source": [
    "# Download \"00803_MGH_Broad00803_MGH_Broad\" from https://www.covid19cellatlas.org/index.patient.html\n",
    "MGH_py = sc.read('20200917_MGH_Broad_Villani_to_CZI.h5ad') # fill in the h5ad file from e.g., COVID-19 atlas"
   ]
  },
  {
   "cell_type": "code",
   "execution_count": 6,
   "id": "b6fb76c2-4df3-45c7-9213-0ea385ea3efc",
   "metadata": {},
   "outputs": [],
   "source": [
    "# Prepare h5 format\n",
    "diopy.output.write_h5(MGH_py, \n",
    "                      file = './MGHdata.h5', \n",
    "                      save_X=False) \n",
    "# Select not to save adata_all.X, because that's scale data,"
   ]
  }
 ],
 "metadata": {
  "kernelspec": {
   "display_name": "Python 3 (ipykernel)",
   "language": "python",
   "name": "python3"
  },
  "language_info": {
   "codemirror_mode": {
    "name": "ipython",
    "version": 3
   },
   "file_extension": ".py",
   "mimetype": "text/x-python",
   "name": "python",
   "nbconvert_exporter": "python",
   "pygments_lexer": "ipython3",
   "version": "3.9.12"
  }
 },
 "nbformat": 4,
 "nbformat_minor": 5
}
